{
 "cells": [
  {
   "cell_type": "code",
   "execution_count": 3,
   "metadata": {},
   "outputs": [
    {
     "name": "stdout",
     "output_type": "stream",
     "text": [
      "Enter the directory/Users/leon/Desktop/files\n",
      "[('word1', 3), ('word', 1)]\n"
     ]
    }
   ],
   "source": [
    "from pymongo import MongoClient\n",
    "import os\n",
    "from collections import Counter\n",
    "\n",
    "#ignore mongo warnings\n",
    "import warnings\n",
    "warnings.filterwarnings(\"ignore\", category=DeprecationWarning)\n",
    "\n",
    "#Database definitions and cleaning\n",
    "client = MongoClient()\n",
    "myClient = MongoClient('localhost', 27017)\n",
    "myDB = myClient[\"marketpulzz\"]\n",
    "myColl = myDB[\"tutorial\"]\n",
    "myColl.remove({})\n",
    "\n",
    "#read input\n",
    "directory = input(\"Enter the directory\")\n",
    "\n",
    "class WordsCounter:\n",
    "    \n",
    "    def __init__(self, directory):\n",
    "        self.directory = directory\n",
    "        self.words_counter = Counter()\n",
    "\n",
    "    #Main function iterating and counting on files in dir\n",
    "    def count(self):      \n",
    "        for filename in os.listdir(self.directory):\n",
    "            if not filename.startswith('.'):\n",
    "                filepath = os.path.join(directory, filename)\n",
    "                self.read_file(filepath)\n",
    "        print(self.words_counter.most_common())\n",
    "\n",
    "    #open file and pass it to counter\n",
    "    def read_file(self, filename):\n",
    "        with open(filename, 'r') as f:\n",
    "            self.count_words(f)\n",
    "        \n",
    "    #Count words in a file and write to db\n",
    "    def count_words(self, file):\n",
    "        index = 0\n",
    "        for line in file:\n",
    "            for word in line.split():\n",
    "                self.words_counter[word]+=1\n",
    "                self.write_to_db(word, self.words_counter[word], file.name, index)\n",
    "                index+=1\n",
    "    \n",
    "    #update or insert whether the word exists\n",
    "    def write_to_db(self, word, word_count, filename, index):\n",
    "        if myColl.find({\"word\": word}).count() > 0:\n",
    "            myColl.update({\"word\": word}, {\"$inc\": {\"count\":1}, \"$push\" : {\"locations\" : {\"filename\": filename, \"index\" : index}}})\n",
    "        else:\n",
    "            myColl.insert_one({\"word\" : word, \"locations\": [{\"filename\": filename, \"index\" : index}], \"count\" : 1})\n",
    "            \n",
    "                \n",
    "myCounter = WordsCounter(directory)\n",
    "myCounter.count()"
   ]
  },
  {
   "cell_type": "code",
   "execution_count": null,
   "metadata": {},
   "outputs": [],
   "source": []
  }
 ],
 "metadata": {
  "kernelspec": {
   "display_name": "Python 3",
   "language": "python",
   "name": "python3"
  },
  "language_info": {
   "codemirror_mode": {
    "name": "ipython",
    "version": 3
   },
   "file_extension": ".py",
   "mimetype": "text/x-python",
   "name": "python",
   "nbconvert_exporter": "python",
   "pygments_lexer": "ipython3",
   "version": "3.7.3"
  }
 },
 "nbformat": 4,
 "nbformat_minor": 2
}
